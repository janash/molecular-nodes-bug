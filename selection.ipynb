{
 "cells": [
  {
   "cell_type": "code",
   "execution_count": 29,
   "metadata": {},
   "outputs": [],
   "source": [
    "# This gives us variables with the same names that are used in the function\n",
    "\n",
    "file_top = \"test_systems/polyAT_no_wat.prmtop\"\n",
    "file_traj = \"test_systems/polyAT_no_wat.dcd\"\n",
    "\n",
    "md_start = 1\n",
    "md_end = 50\n",
    "md_step = 1\n",
    "selection = None"
   ]
  },
  {
   "attachments": {},
   "cell_type": "markdown",
   "metadata": {},
   "source": [
    "The next few cells borrow from `md.py`, but go step by step."
   ]
  },
  {
   "cell_type": "code",
   "execution_count": 30,
   "metadata": {},
   "outputs": [],
   "source": [
    "import MDAnalysis as mda\n",
    "import MDAnalysis.transformations as trans\n",
    "\n",
    "# initially load in the trajectory\n",
    "if file_traj == \"\":\n",
    "    univ = mda.Universe(file_top)\n",
    "else:\n",
    "    univ = mda.Universe(file_top, file_traj)\n"
   ]
  },
  {
   "attachments": {},
   "cell_type": "markdown",
   "metadata": {},
   "source": [
    "We now have an MDAnalysis \"universe\". This just means it is topology (defining bonds, or which atoms are connected to each other), atoms, and coordinates"
   ]
  },
  {
   "cell_type": "code",
   "execution_count": 31,
   "metadata": {},
   "outputs": [
    {
     "name": "stdout",
     "output_type": "stream",
     "text": [
      "[0 1 2 3 4 5 6 7 8 9]\n",
      "Printing bonds!\n",
      "[[ 0  1]\n",
      " [ 1  2]\n",
      " [ 2  3]\n",
      " [ 2  4]\n",
      " [ 2  5]\n",
      " [ 5  6]\n",
      " [ 5  7]\n",
      " [ 5 24]\n",
      " [ 7  8]\n",
      " [ 8  9]]\n"
     ]
    }
   ],
   "source": [
    "# We can see the atom indexes - it is a NumPy array, so by doing [:10], I am showing the first 10\n",
    "print(univ.atoms.indices[:10])\n",
    "\n",
    "# We can see the bond indexes\n",
    "print(\"Printing bonds!\")\n",
    "print(univ.bonds.indices[:10])"
   ]
  },
  {
   "attachments": {},
   "cell_type": "markdown",
   "metadata": {},
   "source": [
    "In the list of bond indices, it is giving an array with two columns and N rows. \n",
    "The N rows represent the number of bonds. The columns represent the atoms in the bond.\n",
    "\n",
    "The first entry `[0 1]`, means that the atom with index 0 is bonded to the atom with index 1.\n",
    "The rest of the rows are similar.\n",
    "\n",
    "Next, try the selection with a different selection:"
   ]
  },
  {
   "cell_type": "code",
   "execution_count": 32,
   "metadata": {},
   "outputs": [],
   "source": [
    "selection = \"resid 20\"\n",
    "\n",
    "univ = univ.select_atoms(selection)"
   ]
  },
  {
   "cell_type": "code",
   "execution_count": 45,
   "metadata": {},
   "outputs": [],
   "source": [
    "\n",
    "# Get the atoms present in the selection\n",
    "# This first converst univ.atoms.indices to a list using the tolist method on numpy arrays\n",
    "# Then, we use the built-in Python data type \"set\" which requires all elements to be unique\n",
    "# This gives us a set of all of the atoms in the selection.\n",
    "atom_numbers = set(univ.atoms.indices.tolist())\n"
   ]
  },
  {
   "cell_type": "code",
   "execution_count": 47,
   "metadata": {},
   "outputs": [],
   "source": [
    "# Get the atoms which are specified in bonds in the selection\n",
    "# First, we flatten the array because it is 2 dimensional using \"flatten\"\n",
    "# Then, we convert it to a list.\n",
    "# Finally, we use set to get all of the unique values.\n",
    "bond_numbers = set(univ.bonds.indices.flatten().tolist())"
   ]
  },
  {
   "cell_type": "code",
   "execution_count": 48,
   "metadata": {},
   "outputs": [
    {
     "name": "stdout",
     "output_type": "stream",
     "text": [
      "{605, 606, 607, 608, 609, 610, 611, 612, 613, 614, 615, 616, 617, 618, 619, 620, 621, 622, 623, 624, 625, 626, 627, 628, 629, 630, 631, 632, 633, 634, 635, 636, 637}\n",
      "{604, 605, 606, 607, 608, 609, 610, 611, 612, 613, 614, 615, 616, 617, 618, 619, 620, 621, 622, 623, 624, 625, 626, 627, 628, 629, 630, 631, 632, 633, 634, 635, 636, 637}\n"
     ]
    }
   ],
   "source": [
    "# From examinig this, you can already see that atom index 604 is present in the list of\n",
    "# bonds, but is no longer present in the list of atoms.\n",
    "print(atom_numbers)\n",
    "print(bond_numbers)"
   ]
  },
  {
   "cell_type": "code",
   "execution_count": 50,
   "metadata": {},
   "outputs": [
    {
     "data": {
      "text/plain": [
       "{604}"
      ]
     },
     "execution_count": 50,
     "metadata": {},
     "output_type": "execute_result"
    }
   ],
   "source": [
    "# You can also see this by using the difference method on the set.\n",
    "bond_numbers.difference(atom_numbers)"
   ]
  },
  {
   "cell_type": "code",
   "execution_count": null,
   "metadata": {},
   "outputs": [],
   "source": []
  }
 ],
 "metadata": {
  "kernelspec": {
   "display_name": "blender",
   "language": "python",
   "name": "python3"
  },
  "language_info": {
   "codemirror_mode": {
    "name": "ipython",
    "version": 3
   },
   "file_extension": ".py",
   "mimetype": "text/x-python",
   "name": "python",
   "nbconvert_exporter": "python",
   "pygments_lexer": "ipython3",
   "version": "3.11.0"
  },
  "orig_nbformat": 4
 },
 "nbformat": 4,
 "nbformat_minor": 2
}
